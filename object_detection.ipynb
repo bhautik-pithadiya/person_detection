{
 "cells": [
  {
   "cell_type": "code",
   "execution_count": null,
   "metadata": {},
   "outputs": [],
   "source": [
    "import torch\n",
    "import time\n",
    "import cv2\n",
    "import torch.backends.cudnn as cudnn\n",
    "from PIL import Image\n",
    "import numpy as np\n",
    "import os\n",
    "import tqdm\n",
    "import json\n",
    "\n",
    "import super_gradients\n",
    "from super_gradients.training import models\n",
    "from super_gradients.common.object_names import Models"
   ]
  },
  {
   "cell_type": "code",
   "execution_count": null,
   "metadata": {},
   "outputs": [],
   "source": [
    "yolo_nas = models.get(\"yolo_nas_s\", pretrained_weights=\"coco\")"
   ]
  },
  {
   "cell_type": "code",
   "execution_count": null,
   "metadata": {},
   "outputs": [],
   "source": [
    "def detection_in_img(img_path,yolo_nas):\n",
    "    # device = torch.device('cuda' if torch.cuda.is_available() else 'cpu')\n",
    "    \n",
    "    model_predictions  = list(yolo_nas.predict(img_path,conf = 0.5,)._images_prediction_lst)\n",
    "\n",
    "    model_pred = model_predictions[0].prediction()\n",
    "    bboxes_xyxy = model_predictions[0].prediction.bboxes_xyxy.tolist()\n",
    "\n",
    "    # bboxes_xyxy in json\n",
    "    print(model_pred)\n",
    "\n",
    "\n",
    "    # confidence = model_predictions[0].prediction.confidence.tolist()\n",
    "    labels = model_predictions[0].prediction.labels.tolist()\n",
    "    # lengths = [len(labels),len(confidence),len(bboxes_xyxy)] \n",
    "    labels = [int(label) for label in labels]\n",
    "\n",
    "    person_bboxes_xyxy = [bbox for i, bbox in enumerate(bboxes_xyxy) if labels[i] == 0]\n",
    "    # person_confidence = [conf for i, conf in enumerate(confidence) if labels[i] == 0]\n",
    "    person_labels = [label for label in labels if label == 0]\n",
    "\n",
    "    # write a txt file\n",
    "    output_filepath = img_path[:-4] \n",
    "    with open(output_filepath + '.txt', 'w+') as f:\n",
    "        for i, bbox in enumerate(person_bboxes_xyxy):\n",
    "            f.write('0 ' + str(bbox[0]) + ' ' + str(bbox[1]) + ' ' + str(bbox[2]) + ' ' + str(bbox[3]) + '\\n')\n",
    "\n",
    "\n",
    "    cv2.waitKey(0)\n",
    "    cv2.destroyAllWindows()"
   ]
  }
 ],
 "metadata": {
  "kernelspec": {
   "display_name": "yolonasdeepsort",
   "language": "python",
   "name": "python3"
  },
  "language_info": {
   "name": "python",
   "version": "3.9.18"
  }
 },
 "nbformat": 4,
 "nbformat_minor": 2
}
